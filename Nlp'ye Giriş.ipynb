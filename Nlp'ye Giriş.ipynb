{
 "cells": [
  {
   "cell_type": "markdown",
   "id": "6105353a",
   "metadata": {},
   "source": [
    "# Doğal Dil İşleme(Natural Language Processing) Nedir ?"
   ]
  },
  {
   "cell_type": "markdown",
   "id": "c985dc4b",
   "metadata": {},
   "source": [
    "\"Bilgisayarların konuştuğumuz dili anlaması, işlemesi, yorum yapması ve hatta cümle üretebilmesi\" doğal dil işlemedir. Doğal dil işleme, hesaplamalı bilimlerle (özellikle yapay zeka ve makine öğrenmesi) dil biliminin ortak kullanıldığı bir disiplindir. "
   ]
  },
  {
   "cell_type": "markdown",
   "id": "1ad2e722",
   "metadata": {},
   "source": [
    "## Doğal Dil İşleme Nasıl Uygulanır ?"
   ]
  },
  {
   "cell_type": "markdown",
   "id": "f70cd1c5",
   "metadata": {},
   "source": [
    "Doğal dil işleme süreçleri dilden dile değişiklik gösterir. Bilgisayar, önce kelimenin kökü üzerine gelen eklerle birlikte dönüşümüne bakar, buna kelime bilimi (lexical) denir. Bundan sonra cümledeki kelimelerin dizilimine göre ne anlama geldiğini anlamaya çalışır buna sözdizim denir (syntactic). Ardından cümlenin özünde anlatmaya çalıştığına bakar, buna semantic denir. Son olarak da cümlelerin bir araya gelerek ifade etmek istediğine bakar, bu da söylevdir (pragmatics). Özetle, bilgisayar kelime kökünü ayrı, kelimelerin dizilmesini ayrı, cümlenin ve söylevin anlamını ayrı inceleyerek konuşmanın bağlamını öğrenir ve bu konuşmadan bir anlam çıkarır."
   ]
  },
  {
   "cell_type": "markdown",
   "id": "fc4e3e0a",
   "metadata": {},
   "source": [
    "## Doğal Dil İşleme Uygulama Alanları Nelerdir ?"
   ]
  },
  {
   "cell_type": "markdown",
   "id": "aa09087e",
   "metadata": {},
   "source": [
    "1.Metin Sınıflandırma ve Kategorizasyon (Text Classification and Categorization) \\\n",
    "2.Adlandırılmış Varlık Tanıma (Named Entity Recognition (NER) ) \\\n",
    "3.Konuşma Bölümü Etiketleme (Part-of-Speech Tagging) \\ \n",
    "4.Anlamsal Ayrıştırma ve Soru Cevaplama (Semantic Parsing and Question Answering) \\\n",
    "5.Yorum Bulma (Paraphrase Detection) \\\n",
    "6.Dil Üretimi ve Çok Belgeli Özetleme (Language Generation and Multi-document Summarization) \\\n",
    "7.Dil Çeviri (Machine Translation) \\\n",
    "8.Ses Tanıma (Speech Recognition) \\\n",
    "9.Karakter Tanıma (Character Recognition) \\\n",
    "10.Yazım Denetimi (Spell Checking) "
   ]
  },
  {
   "cell_type": "code",
   "execution_count": 1,
   "id": "ef64772c",
   "metadata": {},
   "outputs": [],
   "source": [
    "import pandas as pd "
   ]
  },
  {
   "cell_type": "code",
   "execution_count": 2,
   "id": "b07c2f3e",
   "metadata": {},
   "outputs": [],
   "source": [
    "train=pd.read_csv(\"Corona_traın.csv\", encoding='ISO-8859-1')\n",
    "test=pd.read_csv(\"Corona_test.csv\", encoding='ISO-8859-1')"
   ]
  },
  {
   "cell_type": "code",
   "execution_count": 3,
   "id": "e5a7f605",
   "metadata": {},
   "outputs": [
    {
     "data": {
      "text/html": [
       "<div>\n",
       "<style scoped>\n",
       "    .dataframe tbody tr th:only-of-type {\n",
       "        vertical-align: middle;\n",
       "    }\n",
       "\n",
       "    .dataframe tbody tr th {\n",
       "        vertical-align: top;\n",
       "    }\n",
       "\n",
       "    .dataframe thead th {\n",
       "        text-align: right;\n",
       "    }\n",
       "</style>\n",
       "<table border=\"1\" class=\"dataframe\">\n",
       "  <thead>\n",
       "    <tr style=\"text-align: right;\">\n",
       "      <th></th>\n",
       "      <th>UserName</th>\n",
       "      <th>ScreenName</th>\n",
       "      <th>Location</th>\n",
       "      <th>TweetAt</th>\n",
       "      <th>OriginalTweet</th>\n",
       "      <th>Sentiment</th>\n",
       "    </tr>\n",
       "  </thead>\n",
       "  <tbody>\n",
       "    <tr>\n",
       "      <th>0</th>\n",
       "      <td>3799</td>\n",
       "      <td>48751</td>\n",
       "      <td>London</td>\n",
       "      <td>16-03-2020</td>\n",
       "      <td>@MeNyrbie @Phil_Gahan @Chrisitv https://t.co/i...</td>\n",
       "      <td>Neutral</td>\n",
       "    </tr>\n",
       "  </tbody>\n",
       "</table>\n",
       "</div>"
      ],
      "text/plain": [
       "   UserName  ScreenName Location     TweetAt  \\\n",
       "0      3799       48751   London  16-03-2020   \n",
       "\n",
       "                                       OriginalTweet Sentiment  \n",
       "0  @MeNyrbie @Phil_Gahan @Chrisitv https://t.co/i...   Neutral  "
      ]
     },
     "execution_count": 3,
     "metadata": {},
     "output_type": "execute_result"
    }
   ],
   "source": [
    "train.head(1)"
   ]
  },
  {
   "cell_type": "code",
   "execution_count": 4,
   "id": "323c00da",
   "metadata": {},
   "outputs": [
    {
     "data": {
      "text/html": [
       "<div>\n",
       "<style scoped>\n",
       "    .dataframe tbody tr th:only-of-type {\n",
       "        vertical-align: middle;\n",
       "    }\n",
       "\n",
       "    .dataframe tbody tr th {\n",
       "        vertical-align: top;\n",
       "    }\n",
       "\n",
       "    .dataframe thead th {\n",
       "        text-align: right;\n",
       "    }\n",
       "</style>\n",
       "<table border=\"1\" class=\"dataframe\">\n",
       "  <thead>\n",
       "    <tr style=\"text-align: right;\">\n",
       "      <th></th>\n",
       "      <th>UserName</th>\n",
       "      <th>ScreenName</th>\n",
       "      <th>Location</th>\n",
       "      <th>TweetAt</th>\n",
       "      <th>OriginalTweet</th>\n",
       "      <th>Sentiment</th>\n",
       "    </tr>\n",
       "  </thead>\n",
       "  <tbody>\n",
       "    <tr>\n",
       "      <th>0</th>\n",
       "      <td>1</td>\n",
       "      <td>44953</td>\n",
       "      <td>NYC</td>\n",
       "      <td>02-03-2020</td>\n",
       "      <td>TRENDING: New Yorkers encounter empty supermar...</td>\n",
       "      <td>Extremely Negative</td>\n",
       "    </tr>\n",
       "  </tbody>\n",
       "</table>\n",
       "</div>"
      ],
      "text/plain": [
       "   UserName  ScreenName Location     TweetAt  \\\n",
       "0         1       44953      NYC  02-03-2020   \n",
       "\n",
       "                                       OriginalTweet           Sentiment  \n",
       "0  TRENDING: New Yorkers encounter empty supermar...  Extremely Negative  "
      ]
     },
     "execution_count": 4,
     "metadata": {},
     "output_type": "execute_result"
    }
   ],
   "source": [
    "test.head(1)"
   ]
  }
 ],
 "metadata": {
  "kernelspec": {
   "display_name": "Python 3 (ipykernel)",
   "language": "python",
   "name": "python3"
  },
  "language_info": {
   "codemirror_mode": {
    "name": "ipython",
    "version": 3
   },
   "file_extension": ".py",
   "mimetype": "text/x-python",
   "name": "python",
   "nbconvert_exporter": "python",
   "pygments_lexer": "ipython3",
   "version": "3.9.13"
  }
 },
 "nbformat": 4,
 "nbformat_minor": 5
}
